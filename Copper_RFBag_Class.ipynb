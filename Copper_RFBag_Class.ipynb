{
 "cells": [
  {
   "cell_type": "raw",
   "id": "e2b434c8-ab3a-4588-b775-4f95aa7c10be",
   "metadata": {},
   "source": [
    "import pandas as pd\n",
    "import numpy as np\n",
    "import seaborn as sns\n",
    "import matplotlib.pyplot as plt"
   ]
  },
  {
   "cell_type": "raw",
   "id": "f6e0a95c-2ddb-4a1d-af28-0ce10ff6e5fa",
   "metadata": {},
   "source": [
    "df = pd.read_csv(\"Copper_Set.csv\")\n",
    "df"
   ]
  },
  {
   "cell_type": "raw",
   "id": "9187bc73-d528-4ffb-9633-39985863fbce",
   "metadata": {},
   "source": [
    "df['item_date'].fillna(df['item_date'].median(), inplace= True)\n",
    "df.at[(52, 105485), 'item_date'] = 20201130.0\n",
    "df.at[(58, 104761, 105421), 'delivery date'] = 20210101.0\n",
    "df.at[104684, 'customer'] = 30353798.0\n",
    "for index, row in df.iterrows():\n",
    "    if row['customer'] == 30196886.0 and pd.isna(row['country']):\n",
    "        df.at[index, 'country'] = 84.0\n",
    "    if row['customer'] == 30199273.0 and pd.isna(row['country']):\n",
    "        df.at[index, 'country'] = 27.0\n",
    "    if row['customer'] == 30198586.0 and pd.isna(row['country']):\n",
    "        df.at[index, 'country'] = 27.0\n",
    "for index, row in df.iterrows():\n",
    "    if pd.isna(row['country']):\n",
    "        df.at[index, 'country'] = 000.0\n",
    "df['application'] = df['application'].fillna(10)\n",
    "df['status'] = df['status'].fillna('Won')\n",
    "df['customer'] = df['customer'].astype('int32')\n",
    "df['country'] = df['country'].astype('int32')\n",
    "df['application'] = df['application'].astype('int32')\n",
    "df['thickness'].fillna(1.5, inplace=True)\n",
    "df['selling_price'].fillna(812.0, inplace=True)\n",
    "df.at[173086, 'quantity tons'] = '2.71828'\n",
    "df['quantity tons'] = df['quantity tons'].astype('float32')\n",
    "df.at[105730, 'quantity tons'] = 4\n",
    "df.at[131473, 'quantity tons'] = 1.47679405021942\n",
    "df.at[181661, 'quantity tons'] = 18\n",
    "df.at[181671, 'quantity tons'] = 2000\n",
    "df.drop(columns = ['id', 'material_ref'], inplace = True)"
   ]
  },
  {
   "cell_type": "raw",
   "id": "f5e4391e-fd55-4a5e-a809-ab84922581cd",
   "metadata": {},
   "source": [
    "from sklearn.preprocessing import LabelEncoder\n",
    "item_type_encoder_class = LabelEncoder()\n",
    "df['item_type_encoded'] = item_type_encoder_class.fit_transform(df['item type'])"
   ]
  },
  {
   "cell_type": "raw",
   "id": "c3672668-e27e-4f2f-9a7b-80b40d2d5e55",
   "metadata": {},
   "source": [
    "df.drop(columns = ['item type'], inplace = True)"
   ]
  },
  {
   "cell_type": "raw",
   "id": "3b5f1800-c4d2-4d9a-9413-a66ca4f269bd",
   "metadata": {},
   "source": [
    "df['item_date']= df['item_date'].astype('int32')\n",
    "df['delivery date']= df['delivery date'].astype('int32')"
   ]
  },
  {
   "cell_type": "raw",
   "id": "e4acbe07-d255-4789-9496-fb118d2a2ca9",
   "metadata": {},
   "source": [
    "# thickness\n",
    "# Calculate the z-scores\n",
    "df['z_score_t'] = (df['thickness'] - df['thickness'].mean()) / df['thickness'].std()\n",
    "\n",
    "# Set threshold for outliers\n",
    "outliers_zt = df[np.abs(df['z_score_t']) > 3]\n",
    "toutliers_list = outliers_zt.index\n",
    "#Impute Outliers\n",
    "tmedian_value = df['thickness'].median()\n",
    "for i in toutliers_list:\n",
    "    df.loc[i, 'thickness'] = tmedian_value"
   ]
  },
  {
   "cell_type": "raw",
   "id": "48106987-12a4-4b18-8554-d8ab6d5ebccd",
   "metadata": {},
   "source": [
    "# width\n",
    "# Calculate the z-scores\n",
    "df['z_score_w'] = (df['width'] - df['width'].mean()) / df['width'].std()\n",
    "\n",
    "# Set threshold for outliers\n",
    "outliers_zw = df[np.abs(df['z_score_w']) > 3]\n",
    "woutliers_list = outliers_zw.index\n",
    "#Impute Outliers\n",
    "wmedian_value = df['width'].median()\n",
    "for i in woutliers_list:\n",
    "    df.loc[i, 'width'] = wmedian_value"
   ]
  },
  {
   "cell_type": "raw",
   "id": "0cb41463-e325-4377-9991-8a74af6c25d4",
   "metadata": {},
   "source": [
    "# quantity tons\n",
    "# Calculate the z-scores\n",
    "df['z_score_qt'] = (df['quantity tons'] - df['quantity tons'].mean()) / df['quantity tons'].std()\n",
    "\n",
    "# Set threshold for outliers\n",
    "outliers_zqt = df[np.abs(df['z_score_qt']) > 3]\n",
    "qtoutliers_list = outliers_zqt.index\n",
    "#Impute Outliers\n",
    "qtmedian_value = df['quantity tons'].median()\n",
    "for i in qtoutliers_list:\n",
    "    df.loc[i, 'quantity tons'] = qtmedian_value"
   ]
  },
  {
   "cell_type": "raw",
   "id": "2e0f074c-d0ec-4ed4-993b-86aea330cff9",
   "metadata": {},
   "source": [
    "# selling_price\n",
    "# Calculate the z-scores\n",
    "df['z_score_sp'] = (df['selling_price'] - df['selling_price'].mean()) / df['selling_price'].std()\n",
    "\n",
    "# Set threshold for outliers\n",
    "outliers_zsp = df[np.abs(df['z_score_sp']) > 3]\n",
    "spoutliers_list = outliers_zsp.index\n",
    "#Impute Outliers\n",
    "spmedian_value = df['selling_price'].median()\n",
    "for i in spoutliers_list:\n",
    "    df.loc[i, 'selling_price'] = spmedian_value"
   ]
  },
  {
   "cell_type": "raw",
   "id": "0f8f238b-b123-4072-9376-168d498b843a",
   "metadata": {},
   "source": [
    "df.drop(columns=['z_score_t', 'z_score_w', 'z_score_qt', 'z_score_sp' ], inplace=True)"
   ]
  },
  {
   "cell_type": "raw",
   "id": "4046eb2d-135e-42a8-b8d2-9329a4cfb8f6",
   "metadata": {},
   "source": [
    "status_drop_list = []\n",
    "for index, row in df.iterrows():\n",
    "    if df.loc[index, 'status'] != 'Won' and df.loc[index, 'status'] != 'Lost':\n",
    "        status_drop_list.append(index)\n",
    "status_drop_list"
   ]
  },
  {
   "cell_type": "raw",
   "id": "5703f848-f43e-45b0-95b9-8786141ee77f",
   "metadata": {},
   "source": [
    "for i in status_drop_list:\n",
    "    df.drop(i, axis = 0, inplace = True)"
   ]
  },
  {
   "cell_type": "raw",
   "id": "9cf7702d-eedd-4050-ac25-241f5f0c6c6a",
   "metadata": {},
   "source": [
    "map_dict = {\"Won\":1, \"Lost\":0}\n",
    "df['status']=df['status'].map(map_dict)"
   ]
  },
  {
   "cell_type": "raw",
   "id": "169fb150-c98e-480a-ad56-ca0f5e5799a9",
   "metadata": {},
   "source": [
    "X = df.drop(columns=['status'])\n",
    "y = df['status']"
   ]
  },
  {
   "cell_type": "raw",
   "id": "bfd0f66a-1b47-4bb3-bc5b-94b842fe46c5",
   "metadata": {},
   "source": [
    "from sklearn.ensemble import ExtraTreesClassifier\n",
    "from sklearn.model_selection import train_test_split\n",
    "from sklearn.metrics import accuracy_score, classification_report, confusion_matrix\n",
    "import matplotlib.pyplot as plt\n",
    "import seaborn as sns\n",
    "\n",
    "# Split the data into training and testing sets\n",
    "X_train, X_test, y_train, y_test = train_test_split(X, y, test_size=0.3, random_state=42)\n",
    "\n",
    "# Initialize and train the ExtraTreesClassifier\n",
    "clf = ExtraTreesClassifier(n_estimators=100, random_state=42)\n",
    "clf.fit(X_train, y_train)\n",
    "\n",
    "# Predict on the test set\n",
    "y_pred = clf.predict(X_test)\n",
    "\n",
    "# Evaluate the model\n",
    "print(f\"Accuracy: {accuracy_score(y_test, y_pred)}\")\n",
    "print(classification_report(y_test, y_pred))"
   ]
  },
  {
   "cell_type": "raw",
   "id": "ba2f5016-70eb-427a-9515-837ef8fa445c",
   "metadata": {},
   "source": [
    "# Confusion Matrix\n",
    "conf_matrix = confusion_matrix(y_test, y_pred)\n",
    "\n",
    "# Plotting the Confusion Matrix\n",
    "sns.heatmap(conf_matrix, annot=True, fmt='d', cmap='Blues')\n",
    "plt.xlabel('Predicted')\n",
    "plt.ylabel('Actual')\n",
    "plt.title('Confusion Matrix')\n",
    "plt.show()\n",
    "\n",
    "# Feature Importances\n",
    "feature_importances = pd.Series(clf.feature_importances_, index=X.columns)\n",
    "feature_importances.sort_values().plot(kind='barh')\n",
    "plt.xlabel('Feature Importance')\n",
    "plt.ylabel('Feature')\n",
    "plt.title('Feature Importance in ExtraTreesClassifier')\n",
    "plt.show()\n"
   ]
  },
  {
   "cell_type": "raw",
   "id": "23564fa9-ac33-4a93-a42d-ab9a40504ecc",
   "metadata": {},
   "source": [
    "feat = X_train.columns"
   ]
  },
  {
   "cell_type": "raw",
   "id": "14140040-1d52-4271-8161-cb1f9db00a79",
   "metadata": {},
   "source": [
    "from sklearn.metrics import precision_score, recall_score, f1_score\n",
    "precision_score(y_test, y_pred)"
   ]
  },
  {
   "cell_type": "raw",
   "id": "a37276b6-290b-480d-ac43-d8ef473a41e6",
   "metadata": {},
   "source": [
    "recall_score(y_test, y_pred)"
   ]
  },
  {
   "cell_type": "raw",
   "id": "ba02e17a-dd91-4871-987d-aade01e5a0c8",
   "metadata": {},
   "source": [
    "f1_score(y_test, y_pred)"
   ]
  },
  {
   "cell_type": "raw",
   "id": "fc9d5e48-6e25-4540-8907-db1fbd2a4492",
   "metadata": {},
   "source": [
    "fig = plt.figure(figsize=(25,20))\n",
    "_ = sklearn.tree.plot_tree(clf,\n",
    "                   feature_names=feat,\n",
    "                   class_names=['0', '1'],\n",
    "                   filled=True)\n",
    "fig.savefig(\"decistion_tree.png\")"
   ]
  },
  {
   "cell_type": "raw",
   "id": "3b11694b-a225-4359-b42a-c4732c09675a",
   "metadata": {},
   "source": [
    "clf.feature_importances_"
   ]
  },
  {
   "cell_type": "raw",
   "id": "894cf191-c271-4b12-87ad-22d0009b239b",
   "metadata": {},
   "source": [
    "from sklearn.model_selection import RandomizedSearchCV"
   ]
  },
  {
   "cell_type": "raw",
   "id": "6e579e21-898d-4184-9b1e-054ed1693141",
   "metadata": {},
   "source": [
    "search_space = {'criterion':['gini', 'entropy'],\n",
    "               'max_depth':[3,4,5,6,7,8,9,10,11,12,13,14],\n",
    "                'min_samples_split':[4,6,8,10,12,14,16]}"
   ]
  },
  {
   "cell_type": "raw",
   "id": "bb0fc3a6-346d-49f2-bc77-285e54e1e7f6",
   "metadata": {},
   "source": [
    "# defining parameter range\n",
    "grid = RandomizedSearchCV(clf, search_space, cv=5, n_iter=100, scoring='accuracy', return_train_score=False,\n",
    "                          verbose=1)\n",
    "\n",
    "# fitting the model for grid search\n",
    "grid_search=grid.fit(X, y)"
   ]
  },
  {
   "cell_type": "raw",
   "id": "037d4892-3a8b-416b-b5dc-16a977b24805",
   "metadata": {},
   "source": [
    "print(grid_search.best_params_)\n",
    "print(grid_search.best_score_)"
   ]
  },
  {
   "cell_type": "raw",
   "id": "edc5d6b6-6b93-468f-955c-ae94e638ccc0",
   "metadata": {},
   "source": [
    "clf.get_params()"
   ]
  },
  {
   "cell_type": "raw",
   "id": "2839638a-3718-441f-9d0a-6d1f36738141",
   "metadata": {},
   "source": [
    "import pickle\n",
    "# Save the model and encoders\n",
    "with open('clf_model.pkl', 'wb') as file:\n",
    "    pickle.dump(clf, file)\n",
    "    \n",
    "with open('item_type_encoder_class.pkl', 'wb') as file:\n",
    "    pickle.dump(item_type_encoder_class, file)"
   ]
  },
  {
   "cell_type": "raw",
   "id": "7e4322d7-328e-4965-b44c-36445bca9ee9",
   "metadata": {},
   "source": []
  }
 ],
 "metadata": {
  "kernelspec": {
   "display_name": "Python 3 (ipykernel)",
   "language": "python",
   "name": "python3"
  },
  "language_info": {
   "codemirror_mode": {
    "name": "ipython",
    "version": 3
   },
   "file_extension": ".py",
   "mimetype": "text/x-python",
   "name": "python",
   "nbconvert_exporter": "python",
   "pygments_lexer": "ipython3",
   "version": "3.11.7"
  }
 },
 "nbformat": 4,
 "nbformat_minor": 5
}
