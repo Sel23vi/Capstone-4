{
 "cells": [
  {
   "cell_type": "raw",
   "id": "ec10db4f-0a97-4458-810a-4be2aca4e473",
   "metadata": {},
   "source": [
    "import openpyxl\n",
    "import pandas as pd\n",
    "import numpy as np\n",
    "import seaborn as sns\n",
    "import matplotlib.pyplot as plt"
   ]
  },
  {
   "cell_type": "raw",
   "id": "bf06b4b8-79b6-4303-8db0-a0763c27907a",
   "metadata": {},
   "source": [
    "df = pd.read_csv(\"Copper_Set.csv\")\n",
    "df"
   ]
  },
  {
   "cell_type": "raw",
   "id": "fb9791dc-3a5f-4fb1-bc31-5f590a319e7b",
   "metadata": {},
   "source": [
    "df.drop(columns = ['id', 'material_ref'], inplace = True)"
   ]
  },
  {
   "cell_type": "raw",
   "id": "c6133934-854c-4648-9c6b-6df0cd38ff18",
   "metadata": {},
   "source": [
    "df['item_date'].fillna(df['item_date'].median(), inplace= True)"
   ]
  },
  {
   "cell_type": "raw",
   "id": "bf5b5c69-2cba-4017-bbf0-e9d49e8d0508",
   "metadata": {},
   "source": [
    "df['item_date'].median()"
   ]
  },
  {
   "cell_type": "raw",
   "id": "4df2f739-9b16-4564-82a1-1df861a71c1e",
   "metadata": {},
   "source": [
    "df.at[52, 'item_date'] = 20201130.0\n",
    "df.at[105485, 'item_date'] = 20201130.0"
   ]
  },
  {
   "cell_type": "raw",
   "id": "a910a61f-9ec1-48b8-acfc-680044a2d4df",
   "metadata": {},
   "source": [
    "df['delivery date'].median()\n",
    "# 58, 104761, 105421"
   ]
  },
  {
   "cell_type": "raw",
   "id": "c1268693-6b29-4b94-8e1a-0ac0fcaa638d",
   "metadata": {},
   "source": [
    "df.at[(58, 104761, 105421), 'delivery date'] = 20210101.0"
   ]
  },
  {
   "cell_type": "raw",
   "id": "f82e2dc1-940e-41c2-96d7-e09ec7cfa96f",
   "metadata": {},
   "source": [
    "df.at[104684, 'customer'] = 30353798.0"
   ]
  },
  {
   "cell_type": "raw",
   "id": "913007c3-f252-4043-889f-28a2f0774258",
   "metadata": {},
   "source": [
    "for index, row in df.iterrows():\n",
    "    if row['customer'] == 30196886.0 and pd.isna(row['country']):\n",
    "        df.at[index, 'country'] = 84.0\n",
    "    if row['customer'] == 30199273.0 and pd.isna(row['country']):\n",
    "        df.at[index, 'country'] = 27.0\n",
    "    if row['customer'] == 30198586.0 and pd.isna(row['country']):\n",
    "        df.at[index, 'country'] = 27.0"
   ]
  },
  {
   "cell_type": "raw",
   "id": "512e7e6d-b072-4437-8c48-b54c03157ff2",
   "metadata": {},
   "source": [
    "for index, row in df.iterrows():\n",
    "    if pd.isna(row['country']):\n",
    "        df.at[index, 'country'] = 000.0"
   ]
  },
  {
   "cell_type": "raw",
   "id": "5233f417-5806-45dd-95be-918b741d3258",
   "metadata": {},
   "source": [
    "df['application'] = df['application'].fillna(10)"
   ]
  },
  {
   "cell_type": "raw",
   "id": "9921d5c8-351a-4423-af79-7d7d1f4cbc3f",
   "metadata": {},
   "source": [
    "df['status'] = df['status'].fillna('Won')"
   ]
  },
  {
   "cell_type": "raw",
   "id": "7448527d-a18a-4bbd-a0ec-2cf6c7bd09da",
   "metadata": {},
   "source": [
    "df['customer'] = df['customer'].astype('int32')\n",
    "df['country'] = df['country'].astype('int32')\n",
    "df['application'] = df['application'].astype('int32')"
   ]
  },
  {
   "cell_type": "raw",
   "id": "152748f0-477f-4c88-90bb-3ed131144c53",
   "metadata": {},
   "source": [
    "df['thickness'].median()"
   ]
  },
  {
   "cell_type": "raw",
   "id": "eb626fc8-f422-4311-9098-f123a6597eca",
   "metadata": {},
   "source": [
    "df['selling_price'].median()"
   ]
  },
  {
   "cell_type": "raw",
   "id": "a3f9a120-3ba7-4b03-9169-56db79c397e2",
   "metadata": {},
   "source": [
    "df['thickness'].fillna(1.5, inplace=True)\n",
    "df['selling_price'].fillna(812.0, inplace=True)"
   ]
  },
  {
   "cell_type": "raw",
   "id": "c24e912d-8843-4cff-b9ce-d2d47868414f",
   "metadata": {},
   "source": [
    "df.at[173086, 'quantity tons'] = '2.71828'"
   ]
  },
  {
   "cell_type": "raw",
   "id": "168e3ace-14c4-46fa-ac8e-7cb01c4da44e",
   "metadata": {},
   "source": [
    "df['quantity tons'] = df['quantity tons'].astype('float32')"
   ]
  },
  {
   "cell_type": "raw",
   "id": "282d6aa1-eeb4-4050-a8be-add07a1463fb",
   "metadata": {},
   "source": [
    "df.at[105730, 'quantity tons'] = 4\n",
    "df.at[131473, 'quantity tons'] = 1.47679405021942\n",
    "df.at[181661, 'quantity tons'] = 18\n",
    "df.at[181671, 'quantity tons'] = 2000"
   ]
  },
  {
   "cell_type": "raw",
   "id": "6f194772-6813-4e47-ba31-c5decf4aab4d",
   "metadata": {},
   "source": [
    "from sklearn.preprocessing import LabelEncoder"
   ]
  },
  {
   "cell_type": "raw",
   "id": "960b36c4-7119-40a7-8227-61a33cab7cfa",
   "metadata": {},
   "source": [
    "df['item_type_encoded'] = LabelEncoder().fit_transform(df['item type'])"
   ]
  },
  {
   "cell_type": "raw",
   "id": "1847b869-2e08-4962-8f47-355a914fe840",
   "metadata": {},
   "source": [
    "df['status_encoded'] = LabelEncoder().fit_transform(df['status'])"
   ]
  },
  {
   "cell_type": "raw",
   "id": "0ed492f0-9c1e-4f81-8deb-65519020a36a",
   "metadata": {},
   "source": [
    "from sklearn.ensemble import IsolationForest"
   ]
  },
  {
   "cell_type": "raw",
   "id": "418e4e15-7c64-45c1-986d-f31c945ef48e",
   "metadata": {},
   "source": [
    "# quantity tons\n",
    "isolation_forest = IsolationForest(contamination='auto', random_state=54)\n",
    "df['qt_outlier'] = isolation_forest.fit_predict(df[['quantity tons']])\n",
    "\n",
    "#Impute Outliers\n",
    "qtmedian_value = X_train['quantity tons'].median()\n",
    "df['quantity tons'] = np.where(df['qt_outlier'] == -1, qtmedian_value, df['quantity tons'])"
   ]
  },
  {
   "cell_type": "raw",
   "id": "9d16714b-b86f-48aa-b636-66f7663ccb58",
   "metadata": {},
   "source": [
    "# width\n",
    "# Initialize Isolation Forest\n",
    "iso_forest = IsolationForest(contamination='auto', random_state=54) \n",
    "# Fit the model to the 'width' column\n",
    "#iso_forest.fit(X_train[['width']])\n",
    "\n",
    "# fit & Predict outliers in one go\n",
    "df['w_outlier'] = iso_forest.fit_predict(df[['width']])\n",
    "# Outliers are marked as -1, inliers as 1\n",
    "# w_outlier_indexes = X_train[X_train['w_outlier'] == -1].index\n",
    "# Alternatively, you can cap or replace outliers with a predefined value\n",
    "# width_median = X_train['width'].median()\n",
    "width_cap = df['width'].quantile(0.95)\n",
    "# X_train.loc[outlier_indexes, 'width'] = width_cap  # or use width_median for imputation\n",
    "X_train.loc[X_train['w_outlier'] == -1, 'width'] = X_train['width'].quantile(0.95) "
   ]
  },
  {
   "cell_type": "raw",
   "id": "2378dd52-a303-46b8-ad97-569536e794dd",
   "metadata": {},
   "source": [
    "sns.displot(df['width'], kind= 'kde')\n",
    "plt.show()"
   ]
  },
  {
   "cell_type": "raw",
   "id": "e58d8cc3-c67c-4a4b-b996-151c4bfb14ea",
   "metadata": {},
   "source": [
    "sns.displot(df['thickness'], kind= 'kde')\n",
    "plt.show()"
   ]
  },
  {
   "cell_type": "raw",
   "id": "9c2004e3-164c-48a3-9c8e-c7988084fc45",
   "metadata": {},
   "source": [
    "sns.displot(df['quantity tons'], kind= 'kde')\n",
    "plt.show()"
   ]
  },
  {
   "cell_type": "raw",
   "id": "a41fed7e-4b75-4c2d-a56a-5fb31a1e9cd7",
   "metadata": {},
   "source": [
    "# thickness\n",
    "# Calculate the z-scores\n",
    "df['z_score_t'] = (df['thickness'] - df['thickness'].mean()) / df['thickness'].std()\n",
    "\n",
    "# Set threshold for outliers\n",
    "outliers_zt = df[np.abs(df['z_score_t']) > 3]\n",
    "toutliers_list = outliers_zt.index\n",
    "#Impute Outliers\n",
    "tmedian_value = df['thickness'].median()\n",
    "for i in toutliers_list:\n",
    "    df.loc[i, 'thickness'] = tmedian_value"
   ]
  },
  {
   "cell_type": "raw",
   "id": "420e2040-84f5-4e7a-ad2d-80ef2fa71e71",
   "metadata": {},
   "source": [
    "# width\n",
    "# Calculate the z-scores\n",
    "df['z_score_w'] = (df['width'] - df['width'].mean()) / df['width'].std()\n",
    "\n",
    "# Set threshold for outliers\n",
    "outliers_zw = df[np.abs(df['z_score_w']) > 3]\n",
    "woutliers_list = outliers_zw.index\n",
    "#Impute Outliers\n",
    "wmedian_value = df['width'].median()\n",
    "for i in woutliers_list:\n",
    "    df.loc[i, 'width'] = wmedian_value"
   ]
  },
  {
   "cell_type": "raw",
   "id": "f5618870-f5bc-46a4-b74c-bbbdf9e2fff5",
   "metadata": {},
   "source": [
    "# quantity tons\n",
    "# Calculate the z-scores\n",
    "df['z_score_qt'] = (df['quantity tons'] - df['quantity tons'].mean()) / df['quantity tons'].std()\n",
    "\n",
    "# Set threshold for outliers\n",
    "outliers_zqt = df[np.abs(df['z_score_qt']) > 3]\n",
    "qtoutliers_list = outliers_zqt.index\n",
    "#Impute Outliers\n",
    "qtmedian_value = df['quantity tons'].median()\n",
    "for i in qtoutliers_list:\n",
    "    df.loc[i, 'quantity tons'] = qtmedian_value"
   ]
  },
  {
   "cell_type": "raw",
   "id": "701126c6-1623-46b6-b06f-3eba8104788b",
   "metadata": {},
   "source": [
    "sns.displot(df['width'], kind= 'kde')\n",
    "plt.show()"
   ]
  },
  {
   "cell_type": "raw",
   "id": "dea71a23-1398-4d03-b22f-6b8d7b4c1069",
   "metadata": {},
   "source": [
    "sns.displot(df['thickness'], kind= 'kde')\n",
    "plt.show()"
   ]
  },
  {
   "cell_type": "raw",
   "id": "1c026a18-3ffc-4ae8-9706-a905f533eef9",
   "metadata": {},
   "source": [
    "sns.displot(df['quantity tons'], kind= 'kde')\n",
    "plt.show()"
   ]
  },
  {
   "cell_type": "raw",
   "id": "016d5787-93e1-4eb1-9501-595e05e75ef6",
   "metadata": {},
   "source": [
    "df.to_excel(\"copper_cleaned.xlsx\", index = True)"
   ]
  },
  {
   "cell_type": "raw",
   "id": "ee00cd20-af0b-46ce-8474-b2696d29a11a",
   "metadata": {},
   "source": [
    "df.drop(columns=['item type', 'status', 'z_score_t', 'z_score_w', 'z_score_qt' ], inplace=True)"
   ]
  },
  {
   "cell_type": "raw",
   "id": "7b25b136-63ad-4eff-9675-e9aa93fb491d",
   "metadata": {},
   "source": [
    "df"
   ]
  },
  {
   "cell_type": "raw",
   "id": "907c51c5-b7ff-4c2a-baed-ded1c65e47e4",
   "metadata": {},
   "source": [
    "from sklearn.model_selection import train_test_split"
   ]
  },
  {
   "cell_type": "raw",
   "id": "c5e68a75-4874-4563-81d1-337155f701a2",
   "metadata": {},
   "source": [
    "X = df.drop('selling_price', axis = 1)\n",
    "y = df['selling_price']"
   ]
  },
  {
   "cell_type": "raw",
   "id": "0986c106-79c3-4697-9cb2-4b6551bc206b",
   "metadata": {},
   "source": [
    "## DT does not require feature scaling of data"
   ]
  },
  {
   "cell_type": "raw",
   "id": "19e0afca-ca1a-45a4-958d-062c59dce37d",
   "metadata": {},
   "source": [
    "X_train, X_test, y_train, y_test = train_test_split(X, y, test_size=0.2, random_state=54)"
   ]
  },
  {
   "cell_type": "raw",
   "id": "49388f19-a40d-45ae-8d72-1000cc9af3c5",
   "metadata": {},
   "source": [
    "from sklearn.tree import DecisionTreeRegressor\n",
    "import sklearn"
   ]
  },
  {
   "cell_type": "raw",
   "id": "cc55274b-b134-432f-ad88-3b7064367838",
   "metadata": {},
   "source": [
    "# initializing and fitting model\n",
    "dtr = DecisionTreeRegressor(random_state = 0) "
   ]
  },
  {
   "cell_type": "raw",
   "id": "36037832-4963-48ab-a066-608299ba1ae5",
   "metadata": {},
   "source": [
    "dtr.fit(X_train, y_train)"
   ]
  },
  {
   "cell_type": "raw",
   "id": "2591499d-f76d-4a39-af3e-9e5a3e81d9f1",
   "metadata": {},
   "source": [
    "from sklearn.metrics import mean_squared_error, r2_score"
   ]
  },
  {
   "cell_type": "raw",
   "id": "c9545af1-27e0-46c3-89e8-5d504b040cea",
   "metadata": {},
   "source": [
    "# Predict on training and test sets\n",
    "train_pred = dtr.predict(X_train)\n",
    "test_pred = dtr.predict(X_test)\n",
    "\n",
    "# Calculate regression metrics\n",
    "train_mse = mean_squared_error(y_train, train_pred)\n",
    "train_r2 = r2_score(y_train, train_pred)\n",
    "test_mse = mean_squared_error(y_test, test_pred)\n",
    "test_r2 = r2_score(y_test, test_pred)\n",
    "\n",
    "print(f\"Train MSE: {train_mse}, Train R²: {train_r2}\")\n",
    "print(f\"Test MSE: {test_mse}, Test R²: {test_r2}\")"
   ]
  },
  {
   "cell_type": "raw",
   "id": "a342b773-5fd1-4413-9e1d-7a1b98f025d5",
   "metadata": {},
   "source": [
    "import math\n",
    "print(math.sqrt(train_mse))\n",
    "print(math.sqrt(test_mse))"
   ]
  },
  {
   "cell_type": "raw",
   "id": "6ad41dae-7ce3-470d-a74e-74392d68ff13",
   "metadata": {},
   "source": [
    "from sklearn.model_selection import GridSearchCV, train_test_split"
   ]
  },
  {
   "cell_type": "raw",
   "id": "0b77407e-69e4-4a59-ab67-0a86aad4b0d2",
   "metadata": {},
   "source": [
    "# Define the parameter grid\n",
    "param_grid = {\n",
    "    'max_depth': [3, 5, 10, 15, None],\n",
    "    'min_samples_split': [2, 5, 10],\n",
    "    'min_samples_leaf': [1, 3, 6],\n",
    "    'max_features': ['sqrt', 'log2'],\n",
    "    'criterion': ['squared_error', 'absolute_error']\n",
    "}\n",
    "\n",
    "# Initialize GridSearchCV\n",
    "grid_search = GridSearchCV(estimator=dtr, param_grid=param_grid, cv=10, scoring='neg_mean_squared_error', n_jobs=-1)\n",
    "\n",
    "# Fit the model\n",
    "grid_search.fit(X_train, y_train)\n",
    "\n",
    "# Print the best parameters and best score\n",
    "print(\"Best parameters:\", grid_search.best_params_)\n",
    "print(\"Best score:\", grid_search.best_score_)\n",
    "\n",
    "# Predict using the best model\n",
    "best_model = grid_search.best_estimator_\n",
    "y_pred = best_model.predict(X_test)\n",
    "\n",
    "# Evaluate the model\n",
    "mse = mean_squared_error(y_test, y_pred)\n",
    "r2 = r2_score(y_test, y_pred)\n",
    "print(\"Mean Squared Error:\", mse)\n",
    "print(\"R2 Score:\", r2)"
   ]
  },
  {
   "cell_type": "raw",
   "id": "149576a8-b7be-4de1-831f-1b4c70c27bd7",
   "metadata": {},
   "source": [
    "from sklearn.model_selection import RandomizedSearchCV\n",
    "from scipy.stats import randint\n",
    "\n",
    "# Define the parameter distribution\n",
    "param_dist = {\n",
    "    'max_depth': [3, 5, 10, 15],\n",
    "    'min_samples_split': randint(2, 5, 11),\n",
    "    'min_samples_leaf': randint(1, 3, 6),\n",
    "    'max_features': ['sqrt', 'log2'],\n",
    "    'criterion': ['squared_error', 'absolute_error']\n",
    "}\n",
    "\n",
    "# Initialize RandomizedSearchCV\n",
    "random_search = RandomizedSearchCV(estimator=dtr, param_distributions=param_dist, n_iter=100, cv=5, scoring='neg_mean_squared_error', \n",
    "                                   random_state=0, n_jobs=-1)\n",
    "\n",
    "# Fit the model\n",
    "random_search.fit(X_train, y_train)\n",
    "\n",
    "# Print the best parameters and best score\n",
    "print(\"Best parameters:\", random_search.best_params_)\n",
    "print(\"Best score:\", random_search.best_score_)\n",
    "\n",
    "# Predict using the best model\n",
    "best_model = random_search.best_estimator_\n",
    "y_pred = best_model.predict(X_test)\n"
   ]
  },
  {
   "cell_type": "raw",
   "id": "2db932fd-7722-4afe-b369-73f34209d025",
   "metadata": {},
   "source": [
    "X_train.columns"
   ]
  },
  {
   "cell_type": "raw",
   "id": "33a7352a-5d32-4b70-ab1c-d1a5d3a1afdb",
   "metadata": {},
   "source": [
    "### ======================================###=========================================###======================================="
   ]
  },
  {
   "cell_type": "raw",
   "id": "85a1a15f-e581-4c23-8710-0a65cf5b2fac",
   "metadata": {},
   "source": [
    "from sklearn.tree import DecisionTreeRegressor, plot_tree\n",
    "import matplotlib.pyplot as plt\n",
    "\n",
    "# # Sample Data: Use your own dataset instead\n",
    "# from sklearn.datasets import make_regression\n",
    "# X, y = make_regression(n_samples=100, n_features=4, noise=0.1, random_state=42)\n",
    "\n",
    "# Train Decision Tree Regressor\n",
    "# dtr = DecisionTreeRegressor(random_state=0)\n",
    "# dtr.fit(X, y)\n",
    "\n",
    "# Plot the decision tree\n",
    "feat = X_train.columns\n",
    "plt.figure(figsize=(20,10))\n",
    "plot_tree(dtr, filled=True, feature_names=feat, rounded=True)\n",
    "plt.show()"
   ]
  },
  {
   "cell_type": "raw",
   "id": "2939c19a-e54a-4b71-88d3-e834b80b41b8",
   "metadata": {},
   "source": [
    "from sklearn.tree import export_graphviz\n",
    "import graphviz\n",
    "\n",
    "# Train Decision Tree Regressor\n",
    "dtr = DecisionTreeRegressor(random_state=0)\n",
    "dtr.fit(X, y)\n",
    "\n",
    "# Export tree in DOT format\n",
    "dot_data = export_graphviz(dtr, out_file=None,\n",
    "                           feature_names=[f'Feature{i}' for i in range(X.shape[1])],\n",
    "                           filled=True, rounded=True,\n",
    "                           special_characters=True)\n",
    "\n",
    "# Create a graph from DOT data\n",
    "graph = graphviz.Source(dot_data)\n",
    "graph.render(\"decision_tree\")  # Save as PDF or other format\n",
    "graph\n"
   ]
  },
  {
   "cell_type": "raw",
   "id": "0e673757-ee62-42e9-b3b9-1f0390299f09",
   "metadata": {},
   "source": [
    "! pip install graphviz"
   ]
  },
  {
   "cell_type": "raw",
   "id": "c2d4ac56-3efd-4ec1-9384-34b5822b09bc",
   "metadata": {},
   "source": [
    "from dtreeviz.trees import dtreeviz\n",
    "import numpy as np\n",
    "\n",
    "# Train Decision Tree Regressor\n",
    "dtr = DecisionTreeRegressor(random_state=0)\n",
    "dtr.fit(X, y)\n",
    "\n",
    "# Create a tree visualization\n",
    "viz = dtreeviz(dtr, X, y,\n",
    "               target_name='Target',\n",
    "               feature_names=[f'Feature{i}' for i in range(X.shape[1])],\n",
    "               title=\"Decision Tree Regressor\")\n",
    "\n",
    "viz.view()  # Displays the tree visualization\n"
   ]
  },
  {
   "cell_type": "raw",
   "id": "f7739b6e-acc3-42b4-a7c8-666900bf7950",
   "metadata": {},
   "source": [
    "!pip install dtreeviz"
   ]
  },
  {
   "cell_type": "raw",
   "id": "987cff24-8347-4a7a-88ce-3f574f1f8b6a",
   "metadata": {},
   "source": [
    "type(X_train.loc[151976])"
   ]
  },
  {
   "cell_type": "raw",
   "id": "2b896802-3a7d-42dc-a8a5-43315cfebaee",
   "metadata": {},
   "source": [
    "X_trail = [[20210401, 225.7906761, 30202938,\t25,\t41,\t1.5, 1265, 1668701718, 20210401, 5 , 7]]\n",
    "prediction = dtr.predict(X_trail)\n",
    "prediction"
   ]
  },
  {
   "cell_type": "raw",
   "id": "29dedc1d-928f-44e2-bfe5-68ef37a5c1b9",
   "metadata": {},
   "source": [
    "import pickle\n",
    "from sklearn.preprocessing import LabelEncoder\n",
    "\n",
    "# Assume you have these encoders from your training process\n",
    "item_type_encoder = LabelEncoder()\n",
    "status_encoder = LabelEncoder()\n",
    "\n",
    "df['item_type_encoded'] = item_type_encoder.fit_transform(df['item type'])\n",
    "df['status_encoded'] = status_encoder.fit_transform(df['status'])\n",
    "\n",
    "# Save the encoders\n",
    "with open('item_type_encoder.pkl', 'wb') as file:\n",
    "    pickle.dump(item_type_encoder, file)\n",
    "\n",
    "with open('status_encoder.pkl', 'wb') as file:\n",
    "    pickle.dump(status_encoder, file)\n"
   ]
  },
  {
   "cell_type": "raw",
   "id": "3ea436ba-4c7a-4d1b-9c02-37751d6f538a",
   "metadata": {},
   "source": [
    "import pickle\n",
    "from sklearn.preprocessing import LabelEncoder\n",
    "\n",
    "# Load the saved encoders\n",
    "with open('item_type_encoder.pkl', 'rb') as file:\n",
    "    item_type_encoder = pickle.load(file)\n",
    "\n",
    "with open('status_encoder.pkl', 'rb') as file:\n",
    "    status_encoder = pickle.load(file)\n"
   ]
  },
  {
   "cell_type": "raw",
   "id": "756ea2a1-67ce-4339-b39b-2d6a7ff4f9a7",
   "metadata": {},
   "source": [
    "import numpy as np\n",
    "import pandas as pd\n",
    "\n",
    "# Example input feature set\n",
    "input_data = {\n",
    "    'item_date': [20210401],\n",
    "    'quantity tons': [54.15113862],\n",
    "    'customer': [30156308],\n",
    "    'country': [28],\n",
    "    'status': ['Won'],\n",
    "    'item type': ['W'],\n",
    "    'application': [10],\n",
    "    'thickness': [2],\n",
    "    'width': [1500],\n",
    "    'product_ref': [1670798778],\n",
    "    'delivery date': [20210701]\n",
    "}\n",
    "\n",
    "# Convert to DataFrame\n",
    "input_df = pd.DataFrame(input_data)\n",
    "\n",
    "# Encode categorical features using the loaded encoders\n",
    "input_df['item_type_encoded'] = item_type_encoder.transform(input_df['item type'])\n",
    "input_df['status_encoded'] = status_encoder.transform(input_df['status'])\n",
    "\n",
    "# Drop the original categorical columns\n",
    "input_df = input_df.drop(columns=['item type', 'status'])\n",
    "\n",
    "# Ensure feature order matches the training data\n",
    "input_features = input_df[['item_date', 'quantity tons', 'customer', 'country', \n",
    "                           'application', 'thickness', 'width', 'product_ref', \n",
    "                           'delivery date', 'item_type_encoded', 'status_encoded']]\n",
    "\n",
    "# Convert to numpy array and make predictions\n",
    "X_trail = np.array(input_features)\n",
    "\n",
    "# Assuming dtr is your trained DecisionTreeRegressor\n",
    "prediction = dtr.predict(X_trail)\n",
    "print(\"Predicted value:\", prediction[0])\n"
   ]
  },
  {
   "cell_type": "raw",
   "id": "48fff08a-8a3a-43ec-b1f4-fd75e0ae7385",
   "metadata": {},
   "source": [
    "# Training Notebook\n",
    "import pickle\n",
    "from sklearn.tree import DecisionTreeRegressor\n",
    "from sklearn.preprocessing import LabelEncoder\n",
    "import pandas as pd\n",
    "\n",
    "# Example DataFrame for training\n",
    "data = {\n",
    "    'item_date': [20210401, 20210402, 20210403],\n",
    "    'quantity tons': [54.15113862, 300.0, 500.0],\n",
    "    'customer': [30156308, 30156309, 30156310],\n",
    "    'country': [28, 30, 25],\n",
    "    'status': ['Won', 'Lost', 'Won'],\n",
    "    'item type': ['W', 'X', 'W'],\n",
    "    'application': [10, 20, 30],\n",
    "    'thickness': [2, 3, 4],\n",
    "    'width': [1500, 1600, 1700],\n",
    "    'product_ref': [1670798778, 1670798779, 1670798780],\n",
    "    'delivery date': [20210701, 20210702, 20210703]\n",
    "}\n",
    "df = pd.DataFrame(data)\n",
    "\n",
    "# Encoding\n",
    "item_type_encoder = LabelEncoder()\n",
    "status_encoder = LabelEncoder()\n",
    "\n",
    "df['item_type_encoded'] = item_type_encoder.fit_transform(df['item type'])\n",
    "df['status_encoded'] = status_encoder.fit_transform(df['status'])\n",
    "\n",
    "# Drop original categorical columns\n",
    "X = df.drop(columns=['status', 'item type', 'status_encoded'])\n",
    "y = df['status_encoded']\n",
    "\n",
    "# Train DecisionTreeRegressor\n",
    "dtr = DecisionTreeRegressor()\n",
    "dtr.fit(X, y)\n",
    "\n",
    "# Save the model and encoders\n",
    "with open('dtr_model.pkl', 'wb') as file:\n",
    "    pickle.dump(dtr, file)\n",
    "with open('item_type_encoder.pkl', 'wb') as file:\n",
    "    pickle.dump(item_type_encoder, file)\n",
    "with open('status_encoder.pkl', 'wb') as file:\n",
    "    pickle.dump(status_encoder, file)\n",
    "\n",
    "# Prediction Script\n",
    "import pickle\n",
    "import pandas as pd\n",
    "import numpy as np\n",
    "\n",
    "# Load the model and encoders\n",
    "with open('dtr_model.pkl', 'rb') as file:\n",
    "    dtr = pickle.load(file)\n",
    "with open('item_type_encoder.pkl', 'rb') as file:\n",
    "    item_type_encoder = pickle.load(file)\n",
    "with open('status_encoder.pkl', 'rb') as file:\n",
    "    status_encoder = pickle.load(file)\n",
    "\n",
    "# Example input feature set\n",
    "input_data = {\n",
    "    'item_date': [20210401],\n",
    "    'quantity tons': [54.15113862],\n",
    "    'customer': [30156308],\n",
    "    'country': [28],\n",
    "    'status': ['Won'],\n",
    "    'item type': ['W'],\n",
    "    'application': [10],\n",
    "    'thickness': [2],\n",
    "    'width': [1500],\n",
    "    'product_ref': [1670798778],\n",
    "    'delivery date': [20210701]\n",
    "}\n",
    "input_df = pd.DataFrame(input_data)\n",
    "\n",
    "# Encode the categorical features\n",
    "input_df['item_type_encoded'] = item_type_encoder.transform(input_df['item type'])\n",
    "input_df['status_encoded'] = status_encoder.transform(input_df['status'])\n",
    "\n",
    "# Prepare input feature set\n",
    "input_df = input_df.drop(columns=['item type', 'status'])\n",
    "X_trail = np.array(input_df)\n",
    "\n",
    "# Make predictions\n",
    "prediction = dtr.predict(X_trail)\n",
    "print(\"Predicted value:\", prediction[0])\n"
   ]
  },
  {
   "cell_type": "raw",
   "id": "ab95cd3d-0a73-4d61-ba29-6b573bdbc4ae",
   "metadata": {},
   "source": [
    "print(sklearn.__version__)"
   ]
  },
  {
   "cell_type": "raw",
   "id": "8d46ce33-1cf6-462e-9b0e-40a958f260b9",
   "metadata": {},
   "source": [
    "distinct_labels = item_type_encoder_reg.classes_\n",
    "label_encodings = item_type_encoder_reg.transform(distinct_labels)"
   ]
  },
  {
   "cell_type": "raw",
   "id": "c4bbfcc3-1aa8-4f66-aecf-10891d58af96",
   "metadata": {},
   "source": [
    "len(df['product_ref'].unique())"
   ]
  },
  {
   "cell_type": "raw",
   "id": "50728095-b770-4356-ae59-f8d422294a31",
   "metadata": {},
   "source": [
    "df.columns"
   ]
  },
  {
   "cell_type": "raw",
   "id": "17bdc35e-c896-46b8-9182-940b5d4da43b",
   "metadata": {},
   "source": [
    "XN = df.drop(columns=['item_date', 'customer', 'delivery date', 'selling_price',])\n",
    "yn = df['selling_price']"
   ]
  },
  {
   "cell_type": "raw",
   "id": "e54247b3-280a-4716-9d35-2c39e582cf9e",
   "metadata": {},
   "source": [
    "XN_train, XN_test, yn_train, yn_test = train_test_split(XN, yn, test_size=0.2, random_state=54)"
   ]
  },
  {
   "cell_type": "raw",
   "id": "99aa003d-f5af-4b40-8499-26f60c58e7ee",
   "metadata": {},
   "source": [
    "dtrn = DecisionTreeRegressor(random_state = 0) "
   ]
  },
  {
   "cell_type": "raw",
   "id": "3d62ffeb-a981-4d03-8dbb-ad6d63e99f6e",
   "metadata": {},
   "source": [
    "dtrn.fit(XN_train, yn_train)"
   ]
  },
  {
   "cell_type": "raw",
   "id": "04b5f6b2-c500-4554-b78a-1be7fbf5995b",
   "metadata": {},
   "source": [
    "train_pred_new = dtrn.predict(XN_train)\n",
    "test_pred_new = dtrn.predict(XN_test)\n",
    "\n",
    "# Calculate regression metrics\n",
    "train_mse_new = mean_squared_error(yn_train, train_pred_new)\n",
    "train_r2_new = r2_score(yn_train, train_pred_new)\n",
    "test_mse_new = mean_squared_error(yn_test, test_pred_new)\n",
    "test_r2_new = r2_score(yn_test, test_pred_new)\n",
    "\n",
    "print(f\"Train MSE: {train_mse_new}, Train R²: {train_r2_new}\")\n",
    "print(f\"Test MSE: {test_mse_new}, Test R²: {test_r2_new}\")"
   ]
  },
  {
   "cell_type": "raw",
   "id": "ac245475-1db4-43ad-a87c-44a97555dc68",
   "metadata": {},
   "source": [
    "import math\n",
    "print(math.sqrt(train_mse_new))\n",
    "print(math.sqrt(test_mse_new))"
   ]
  },
  {
   "cell_type": "raw",
   "id": "eadf2d2d-807b-429e-a4cb-ade14299851c",
   "metadata": {},
   "source": []
  }
 ],
 "metadata": {
  "kernelspec": {
   "display_name": "Python 3 (ipykernel)",
   "language": "python",
   "name": "python3"
  },
  "language_info": {
   "codemirror_mode": {
    "name": "ipython",
    "version": 3
   },
   "file_extension": ".py",
   "mimetype": "text/x-python",
   "name": "python",
   "nbconvert_exporter": "python",
   "pygments_lexer": "ipython3",
   "version": "3.11.7"
  }
 },
 "nbformat": 4,
 "nbformat_minor": 5
}
